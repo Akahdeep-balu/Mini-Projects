{
 "cells": [
  {
   "cell_type": "code",
   "execution_count": 72,
   "metadata": {},
   "outputs": [],
   "source": [
    "import numpy as np\n",
    "import pandas as pd\n",
    "from random import seed\n",
    "from random import randrange\n",
    "from sklearn.model_selection import train_test_split\n",
    "import matplotlib.pyplot as plt"
   ]
  },
  {
   "cell_type": "code",
   "execution_count": 73,
   "metadata": {},
   "outputs": [
    {
     "data": {
      "text/plain": [
       "array([[-0.2418, -0.8484,  0.    ],\n",
       "       [-1.6919,  1.0404,  0.    ],\n",
       "       [-1.6919,  1.0405,  0.    ],\n",
       "       ...,\n",
       "       [-1.6919,  1.09  ,  1.    ],\n",
       "       [-1.6919,  1.0901,  1.    ],\n",
       "       [-1.6919,  1.0902,  1.    ]])"
      ]
     },
     "execution_count": 73,
     "metadata": {},
     "output_type": "execute_result"
    }
   ],
   "source": [
    "# data reading \n",
    "# uploaddata files to jupyter notebook lab otherwise have to change directory path in the code below\n",
    "data = pd.read_csv('uniform.csv')\n",
    "data = pd.read_csv('Two_Class_Gaussian_Data.csv')\n",
    "data.to_numpy()"
   ]
  },
  {
   "cell_type": "code",
   "execution_count": 81,
   "metadata": {},
   "outputs": [
    {
     "data": {
      "text/plain": [
       "0      0\n",
       "1      0\n",
       "2      0\n",
       "3      0\n",
       "4      0\n",
       "      ..\n",
       "495    1\n",
       "496    1\n",
       "497    1\n",
       "498    1\n",
       "499    1\n",
       "Name: Y, Length: 500, dtype: int64"
      ]
     },
     "execution_count": 81,
     "metadata": {},
     "output_type": "execute_result"
    }
   ],
   "source": [
    "X = data[data.columns[0:2]]\n",
    "X\n",
    "Y = data[data.columns[2]]\n",
    "Y"
   ]
  },
  {
   "cell_type": "code",
   "execution_count": 76,
   "metadata": {},
   "outputs": [
    {
     "data": {
      "text/html": [
       "<div>\n",
       "<style scoped>\n",
       "    .dataframe tbody tr th:only-of-type {\n",
       "        vertical-align: middle;\n",
       "    }\n",
       "\n",
       "    .dataframe tbody tr th {\n",
       "        vertical-align: top;\n",
       "    }\n",
       "\n",
       "    .dataframe thead th {\n",
       "        text-align: right;\n",
       "    }\n",
       "</style>\n",
       "<table border=\"1\" class=\"dataframe\">\n",
       "  <thead>\n",
       "    <tr style=\"text-align: right;\">\n",
       "      <th></th>\n",
       "      <th>X1</th>\n",
       "      <th>X2</th>\n",
       "    </tr>\n",
       "  </thead>\n",
       "  <tbody>\n",
       "    <tr>\n",
       "      <th>455</th>\n",
       "      <td>-1.6919</td>\n",
       "      <td>1.0858</td>\n",
       "    </tr>\n",
       "    <tr>\n",
       "      <th>384</th>\n",
       "      <td>-1.6919</td>\n",
       "      <td>1.0787</td>\n",
       "    </tr>\n",
       "    <tr>\n",
       "      <th>293</th>\n",
       "      <td>-1.6919</td>\n",
       "      <td>1.0696</td>\n",
       "    </tr>\n",
       "    <tr>\n",
       "      <th>421</th>\n",
       "      <td>-1.6919</td>\n",
       "      <td>1.0824</td>\n",
       "    </tr>\n",
       "    <tr>\n",
       "      <th>374</th>\n",
       "      <td>-1.6919</td>\n",
       "      <td>1.0777</td>\n",
       "    </tr>\n",
       "  </tbody>\n",
       "</table>\n",
       "</div>"
      ],
      "text/plain": [
       "         X1      X2\n",
       "455 -1.6919  1.0858\n",
       "384 -1.6919  1.0787\n",
       "293 -1.6919  1.0696\n",
       "421 -1.6919  1.0824\n",
       "374 -1.6919  1.0777"
      ]
     },
     "execution_count": 76,
     "metadata": {},
     "output_type": "execute_result"
    }
   ],
   "source": [
    "#data splitting into testing and training\n",
    "X_train, X_test , Y_train, Y_test=train_test_split(X,Y, test_size=0.25, random_state=123)\n",
    "X_train.head()"
   ]
  },
  {
   "cell_type": "code",
   "execution_count": 82,
   "metadata": {},
   "outputs": [
    {
     "data": {
      "text/plain": [
       "2"
      ]
     },
     "execution_count": 82,
     "metadata": {},
     "output_type": "execute_result"
    }
   ],
   "source": [
    "X1=X_train.to_numpy() \n",
    "Y1=Y_train.to_numpy()\n",
    "x1= X_test.to_numpy()\n",
    "y1= Y_test.to_numpy()\n",
    "x1.shape[1]"
   ]
  },
  {
   "cell_type": "code",
   "execution_count": 83,
   "metadata": {},
   "outputs": [],
   "source": [
    "\n",
    "def predict(r, w):\n",
    "    activation = w.T.dot(r)\n",
    "    return 1.0 if activation >=0.0 else 0.0\n",
    "\n",
    "def train_weights(X,Y, l_rate, n_epoch):\n",
    "    w= np.zeros(X.shape[1]+1)\n",
    "    for epoch in range (n_epoch):\n",
    "        for r in range(X.shape[0]) :\n",
    "            x=np.insert(X[r],0,1)\n",
    "            pred= predict(x, w)\n",
    "            err=Y[r]-pred\n",
    "            w= w + l_rate* err * x\n",
    "        print('>epoch=%d, lrate=%.3f ' % (epoch, l_rate) )\n",
    "    return w\n",
    "\n"
   ]
  },
  {
   "cell_type": "code",
   "execution_count": 84,
   "metadata": {},
   "outputs": [
    {
     "name": "stdout",
     "output_type": "stream",
     "text": [
      ">epoch=0, lrate=0.100 \n",
      ">epoch=1, lrate=0.100 \n",
      ">epoch=2, lrate=0.100 \n",
      ">epoch=3, lrate=0.100 \n",
      ">epoch=4, lrate=0.100 \n",
      ">epoch=5, lrate=0.100 \n",
      ">epoch=6, lrate=0.100 \n",
      ">epoch=7, lrate=0.100 \n",
      ">epoch=8, lrate=0.100 \n",
      ">epoch=9, lrate=0.100 \n",
      ">epoch=10, lrate=0.100 \n",
      ">epoch=11, lrate=0.100 \n",
      ">epoch=12, lrate=0.100 \n",
      ">epoch=13, lrate=0.100 \n",
      ">epoch=14, lrate=0.100 \n",
      ">epoch=15, lrate=0.100 \n",
      ">epoch=16, lrate=0.100 \n",
      ">epoch=17, lrate=0.100 \n",
      ">epoch=18, lrate=0.100 \n",
      ">epoch=19, lrate=0.100 \n",
      ">epoch=20, lrate=0.100 \n",
      ">epoch=21, lrate=0.100 \n",
      ">epoch=22, lrate=0.100 \n",
      ">epoch=23, lrate=0.100 \n",
      ">epoch=24, lrate=0.100 \n",
      ">epoch=25, lrate=0.100 \n",
      ">epoch=26, lrate=0.100 \n",
      ">epoch=27, lrate=0.100 \n",
      ">epoch=28, lrate=0.100 \n",
      ">epoch=29, lrate=0.100 \n",
      ">epoch=30, lrate=0.100 \n",
      ">epoch=31, lrate=0.100 \n",
      ">epoch=32, lrate=0.100 \n",
      ">epoch=33, lrate=0.100 \n",
      ">epoch=34, lrate=0.100 \n",
      ">epoch=35, lrate=0.100 \n",
      ">epoch=36, lrate=0.100 \n",
      ">epoch=37, lrate=0.100 \n",
      ">epoch=38, lrate=0.100 \n",
      ">epoch=39, lrate=0.100 \n",
      ">epoch=40, lrate=0.100 \n",
      ">epoch=41, lrate=0.100 \n",
      ">epoch=42, lrate=0.100 \n",
      ">epoch=43, lrate=0.100 \n",
      ">epoch=44, lrate=0.100 \n",
      ">epoch=45, lrate=0.100 \n",
      ">epoch=46, lrate=0.100 \n",
      ">epoch=47, lrate=0.100 \n",
      ">epoch=48, lrate=0.100 \n",
      ">epoch=49, lrate=0.100 \n",
      ">epoch=50, lrate=0.100 \n",
      ">epoch=51, lrate=0.100 \n",
      ">epoch=52, lrate=0.100 \n",
      ">epoch=53, lrate=0.100 \n",
      ">epoch=54, lrate=0.100 \n",
      ">epoch=55, lrate=0.100 \n",
      ">epoch=56, lrate=0.100 \n",
      ">epoch=57, lrate=0.100 \n",
      ">epoch=58, lrate=0.100 \n",
      ">epoch=59, lrate=0.100 \n",
      ">epoch=60, lrate=0.100 \n",
      ">epoch=61, lrate=0.100 \n",
      ">epoch=62, lrate=0.100 \n",
      ">epoch=63, lrate=0.100 \n",
      ">epoch=64, lrate=0.100 \n",
      ">epoch=65, lrate=0.100 \n",
      ">epoch=66, lrate=0.100 \n",
      ">epoch=67, lrate=0.100 \n",
      ">epoch=68, lrate=0.100 \n",
      ">epoch=69, lrate=0.100 \n",
      ">epoch=70, lrate=0.100 \n",
      ">epoch=71, lrate=0.100 \n",
      ">epoch=72, lrate=0.100 \n",
      ">epoch=73, lrate=0.100 \n",
      ">epoch=74, lrate=0.100 \n",
      ">epoch=75, lrate=0.100 \n",
      ">epoch=76, lrate=0.100 \n",
      ">epoch=77, lrate=0.100 \n",
      ">epoch=78, lrate=0.100 \n",
      ">epoch=79, lrate=0.100 \n",
      ">epoch=80, lrate=0.100 \n",
      ">epoch=81, lrate=0.100 \n",
      ">epoch=82, lrate=0.100 \n",
      ">epoch=83, lrate=0.100 \n",
      ">epoch=84, lrate=0.100 \n",
      ">epoch=85, lrate=0.100 \n",
      ">epoch=86, lrate=0.100 \n",
      ">epoch=87, lrate=0.100 \n",
      ">epoch=88, lrate=0.100 \n",
      ">epoch=89, lrate=0.100 \n",
      ">epoch=90, lrate=0.100 \n",
      ">epoch=91, lrate=0.100 \n",
      ">epoch=92, lrate=0.100 \n",
      ">epoch=93, lrate=0.100 \n",
      ">epoch=94, lrate=0.100 \n",
      ">epoch=95, lrate=0.100 \n",
      ">epoch=96, lrate=0.100 \n",
      ">epoch=97, lrate=0.100 \n",
      ">epoch=98, lrate=0.100 \n",
      ">epoch=99, lrate=0.100 \n",
      "[-0.2      0.33838  0.72524]\n",
      "[0.0, 1.0, 1.0, 1.0, 1.0, 0.0, 0.0, 1.0, 1.0, 0.0, 1.0, 1.0, 0.0, 1.0, 1.0, 0.0, 1.0, 1.0, 1.0, 0.0, 0.0, 1.0, 0.0, 1.0, 0.0, 1.0, 1.0, 0.0, 0.0, 0.0, 1.0, 0.0, 1.0, 0.0, 1.0, 1.0, 0.0, 1.0, 0.0, 1.0, 1.0, 0.0, 0.0, 1.0, 0.0, 1.0, 0.0, 0.0, 0.0, 0.0, 1.0, 0.0, 0.0, 0.0, 1.0, 1.0, 1.0, 1.0, 0.0, 0.0, 0.0, 1.0, 0.0, 1.0, 1.0, 0.0, 0.0, 0.0, 0.0, 0.0, 0.0, 0.0, 0.0, 1.0, 1.0, 0.0, 0.0, 0.0, 1.0, 0.0, 1.0, 1.0, 1.0, 1.0, 1.0, 1.0, 0.0, 1.0, 1.0, 0.0, 0.0, 0.0, 0.0, 0.0, 0.0, 1.0, 0.0, 1.0, 1.0, 1.0, 0.0, 1.0, 0.0, 0.0, 0.0, 1.0, 1.0, 1.0, 0.0, 1.0, 1.0, 1.0, 1.0, 0.0, 0.0, 1.0, 0.0, 1.0, 1.0, 0.0, 0.0, 1.0, 0.0, 0.0, 0.0]\n"
     ]
    }
   ],
   "source": [
    "\n",
    "\n",
    "l_rate = 0.1\n",
    "n_epoch = 100\n",
    "weights = train_weights(X1,Y1, l_rate, n_epoch)\n",
    "print(weights)\n",
    "\n",
    "\n",
    "\n",
    "\n"
   ]
  },
  {
   "cell_type": "code",
   "execution_count": 88,
   "metadata": {},
   "outputs": [
    {
     "data": {
      "text/plain": [
       "99.2"
      ]
     },
     "execution_count": 88,
     "metadata": {},
     "output_type": "execute_result"
    }
   ],
   "source": [
    "    def acc( test):\n",
    "        ps = list()\n",
    "        w= weights\n",
    "        for i in range(test.shape[0]):\n",
    "            t = np.insert(test[i],0,1)\n",
    "            p = predict(t,w)\n",
    "            ps.append(p)\n",
    "        return(ps)\n",
    "    predictions=acc(x1)\n",
    "    def accuracy(actual, predicted):\n",
    "        correct = 0\n",
    "        for i in range(len(actual)):\n",
    "            if actual[i] == predicted[i]:\n",
    "                corr += 1\n",
    "        return corr / float(len(actual)) * 100.0\n",
    "    accuracy(y1, predictions)"
   ]
  },
  {
   "cell_type": "code",
   "execution_count": 102,
   "metadata": {},
   "outputs": [
    {
     "data": {
      "text/plain": [
       "[<matplotlib.lines.Line2D at 0x7fd9518506a0>]"
      ]
     },
     "execution_count": 102,
     "metadata": {},
     "output_type": "execute_result"
    },
    {
     "data": {
      "image/png": "[encoded data removed]",
      "text/plain": [
       "<Figure size 432x288 with 1 Axes>"
      ]
     },
     "metadata": {
      "needs_background": "light"
     },
     "output_type": "display_data"
    }
   ],
   "source": [
    "W0=weights[1]\n",
    "W1=weights[2]\n",
    "bi =weights[0]\n",
    "colormap = np.array(['r', 'g'])\n",
    "\n",
    "plt.scatter(x1[ : ,0], x1[ :,1] , c=colormap[y1])\n",
    "x=np.linspace(-3, 3,10)\n",
    "Y=(-(bi/W1)/(bi/W0))*x +(-bi/W1)\n",
    "plt.plot(x,Y,'-g')\n"
   ]
  },
  {
   "cell_type": "code",
   "execution_count": null,
   "metadata": {},
   "outputs": [],
   "source": []
  }
 ],
 "metadata": {
  "kernelspec": {
   "display_name": "Python 3",
   "language": "python",
   "name": "python3"
  },
  "language_info": {
   "codemirror_mode": {
    "name": "ipython",
    "version": 3
   },
   "file_extension": ".py",
   "mimetype": "text/x-python",
   "name": "python",
   "nbconvert_exporter": "python",
   "pygments_lexer": "ipython3",
   "version": "3.8.1"
  }
 },
 "nbformat": 4,
 "nbformat_minor": 4
}
